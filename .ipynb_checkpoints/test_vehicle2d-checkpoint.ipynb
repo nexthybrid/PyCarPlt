{
 "cells": [
  {
   "cell_type": "markdown",
   "id": "ec1a6735-a818-4757-990e-84c4aeab9e9a",
   "metadata": {
    "tags": [
     "test"
    ]
   },
   "source": [
    "Testing the vehicle2d class\n"
   ]
  },
  {
   "cell_type": "code",
   "execution_count": 1,
   "id": "16382549-ea78-4ca9-9e94-25fc7fa05548",
   "metadata": {
    "tags": []
   },
   "outputs": [
    {
     "data": {
      "text/plain": [
       "3.075"
      ]
     },
     "execution_count": 1,
     "metadata": {},
     "output_type": "execute_result"
    }
   ],
   "source": [
    "from vehicle2d_single_track import *\n",
    "\n",
    "x = vehicle2d_single_track()\n",
    "\n",
    "x.wheel_base"
   ]
  },
  {
   "cell_type": "code",
   "execution_count": null,
   "id": "7f73927b-4e16-454c-9987-f233583ec5fa",
   "metadata": {},
   "outputs": [],
   "source": [
    "x.front_tire"
   ]
  },
  {
   "cell_type": "code",
   "execution_count": null,
   "id": "fdd5155c-d74b-44b7-b35f-8ab367ab718f",
   "metadata": {},
   "outputs": [],
   "source": [
    "x.front_tire.longitudinal_force"
   ]
  },
  {
   "cell_type": "code",
   "execution_count": null,
   "id": "96f81a00-009e-46ea-8655-5431127f48db",
   "metadata": {},
   "outputs": [],
   "source": [
    "x.front_wheel_angle"
   ]
  },
  {
   "cell_type": "markdown",
   "id": "f6742584-2d60-40ba-a989-57151bdd91ba",
   "metadata": {},
   "source": [
    "Test the matplotlib-based 2d vehicle diagram drawing"
   ]
  },
  {
   "cell_type": "code",
   "execution_count": null,
   "id": "a8e97bdf-a7a7-44b9-8962-92b8f3a93570",
   "metadata": {},
   "outputs": [],
   "source": [
    "x.draw_veh_body()"
   ]
  },
  {
   "cell_type": "code",
   "execution_count": null,
   "id": "3f74b456-5c77-4df3-b3c6-22529c3c5c7e",
   "metadata": {},
   "outputs": [],
   "source": [
    "x.draw_vehicle()"
   ]
  },
  {
   "cell_type": "code",
   "execution_count": 2,
   "id": "612fff5e-46ca-425a-820a-18509ca77352",
   "metadata": {},
   "outputs": [],
   "source": [
    "y = vehicle2d_single_track(whl_ang_frnt=0.2)"
   ]
  },
  {
   "cell_type": "code",
   "execution_count": 3,
   "id": "8657951d-761b-4c42-924a-ad0e227a5b4f",
   "metadata": {},
   "outputs": [
    {
     "ename": "NameError",
     "evalue": "name 'fl_ratio' is not defined",
     "output_type": "error",
     "traceback": [
      "\u001b[1;31m---------------------------------------------------------------------------\u001b[0m",
      "\u001b[1;31mNameError\u001b[0m                                 Traceback (most recent call last)",
      "\u001b[1;32m~\\AppData\\Local\\Temp/ipykernel_29780/1923305330.py\u001b[0m in \u001b[0;36m<module>\u001b[1;34m\u001b[0m\n\u001b[1;32m----> 1\u001b[1;33m \u001b[0my\u001b[0m\u001b[1;33m.\u001b[0m\u001b[0mdraw_vehicle\u001b[0m\u001b[1;33m(\u001b[0m\u001b[1;33m)\u001b[0m\u001b[1;33m\u001b[0m\u001b[1;33m\u001b[0m\u001b[0m\n\u001b[0m",
      "\u001b[1;32mc:\\github\\PyCarPlt\\vehicle2d_single_track.py\u001b[0m in \u001b[0;36mdraw_vehicle\u001b[1;34m(self)\u001b[0m\n\u001b[0;32m     31\u001b[0m         \u001b[0mtire_pose_front\u001b[0m \u001b[1;33m=\u001b[0m \u001b[1;33m(\u001b[0m\u001b[0mtires_center\u001b[0m\u001b[1;33m[\u001b[0m\u001b[1;36m0\u001b[0m\u001b[1;33m,\u001b[0m\u001b[1;36m0\u001b[0m\u001b[1;33m]\u001b[0m\u001b[1;33m,\u001b[0m\u001b[0mtires_center\u001b[0m\u001b[1;33m[\u001b[0m\u001b[1;36m1\u001b[0m\u001b[1;33m,\u001b[0m\u001b[1;36m0\u001b[0m\u001b[1;33m]\u001b[0m\u001b[1;33m,\u001b[0m\u001b[0mtires_headings\u001b[0m\u001b[1;33m[\u001b[0m\u001b[1;36m0\u001b[0m\u001b[1;33m]\u001b[0m\u001b[1;33m)\u001b[0m\u001b[1;33m\u001b[0m\u001b[1;33m\u001b[0m\u001b[0m\n\u001b[0;32m     32\u001b[0m         \u001b[0mtire_pose_rear\u001b[0m \u001b[1;33m=\u001b[0m \u001b[1;33m(\u001b[0m\u001b[0mtires_center\u001b[0m\u001b[1;33m[\u001b[0m\u001b[1;36m0\u001b[0m\u001b[1;33m,\u001b[0m\u001b[1;36m1\u001b[0m\u001b[1;33m]\u001b[0m\u001b[1;33m,\u001b[0m\u001b[0mtires_center\u001b[0m\u001b[1;33m[\u001b[0m\u001b[1;36m1\u001b[0m\u001b[1;33m,\u001b[0m\u001b[1;36m1\u001b[0m\u001b[1;33m]\u001b[0m\u001b[1;33m,\u001b[0m\u001b[0mtires_headings\u001b[0m\u001b[1;33m[\u001b[0m\u001b[1;36m1\u001b[0m\u001b[1;33m]\u001b[0m\u001b[1;33m)\u001b[0m\u001b[1;33m\u001b[0m\u001b[1;33m\u001b[0m\u001b[0m\n\u001b[1;32m---> 33\u001b[1;33m         \u001b[0mself\u001b[0m\u001b[1;33m.\u001b[0m\u001b[0mfront_tire\u001b[0m\u001b[1;33m.\u001b[0m\u001b[0mdraw_tire\u001b[0m\u001b[1;33m(\u001b[0m\u001b[0mtire_pose_front\u001b[0m\u001b[1;33m)\u001b[0m\u001b[1;33m\u001b[0m\u001b[1;33m\u001b[0m\u001b[0m\n\u001b[0m\u001b[0;32m     34\u001b[0m         \u001b[0mself\u001b[0m\u001b[1;33m.\u001b[0m\u001b[0mrear_tire\u001b[0m\u001b[1;33m.\u001b[0m\u001b[0mdraw_tire\u001b[0m\u001b[1;33m(\u001b[0m\u001b[0mtire_pose_rear\u001b[0m\u001b[1;33m)\u001b[0m\u001b[1;33m\u001b[0m\u001b[1;33m\u001b[0m\u001b[0m\n\u001b[0;32m     35\u001b[0m         \u001b[0mplt\u001b[0m\u001b[1;33m.\u001b[0m\u001b[0mplot\u001b[0m\u001b[1;33m(\u001b[0m\u001b[1;33m)\u001b[0m\u001b[1;33m\u001b[0m\u001b[1;33m\u001b[0m\u001b[0m\n",
      "\u001b[1;32mc:\\github\\PyCarPlt\\tire2d.py\u001b[0m in \u001b[0;36mdraw_tire\u001b[1;34m(self, tire_pose, z_up, draw_force, fl_ratio)\u001b[0m\n\u001b[0;32m     36\u001b[0m \u001b[1;33m\u001b[0m\u001b[0m\n\u001b[0;32m     37\u001b[0m         \u001b[1;32mif\u001b[0m\u001b[1;33m(\u001b[0m\u001b[0mdraw_force\u001b[0m\u001b[1;33m==\u001b[0m\u001b[1;36m1\u001b[0m\u001b[1;33m)\u001b[0m\u001b[1;33m:\u001b[0m\u001b[1;33m\u001b[0m\u001b[1;33m\u001b[0m\u001b[0m\n\u001b[1;32m---> 38\u001b[1;33m             \u001b[0mself\u001b[0m\u001b[1;33m.\u001b[0m\u001b[0mdraw_tire_force\u001b[0m\u001b[1;33m(\u001b[0m\u001b[0mtire_pose\u001b[0m\u001b[1;33m)\u001b[0m\u001b[1;33m\u001b[0m\u001b[1;33m\u001b[0m\u001b[0m\n\u001b[0m\u001b[0;32m     39\u001b[0m             \u001b[1;31m# Fxt_scaled = self.longitudinal_force / fl_ratio\u001b[0m\u001b[1;33m\u001b[0m\u001b[1;33m\u001b[0m\u001b[1;33m\u001b[0m\u001b[0m\n\u001b[0;32m     40\u001b[0m             \u001b[1;31m# Fyt_scaled = self.lateral_force / fl_ratio\u001b[0m\u001b[1;33m\u001b[0m\u001b[1;33m\u001b[0m\u001b[1;33m\u001b[0m\u001b[0m\n",
      "\u001b[1;32mc:\\github\\PyCarPlt\\tire2d.py\u001b[0m in \u001b[0;36mdraw_tire_force\u001b[1;34m(self, tire_pose)\u001b[0m\n\u001b[0;32m     52\u001b[0m         rotation_matrix = [[math.cos(-heading_tire),math.sin(-heading_tire)],\n\u001b[0;32m     53\u001b[0m                            [-math.sin(-heading_tire),math.cos(-heading_tire)]] # 2x2 matrix\n\u001b[1;32m---> 54\u001b[1;33m         \u001b[0mFxt_scaled\u001b[0m \u001b[1;33m=\u001b[0m \u001b[0mself\u001b[0m\u001b[1;33m.\u001b[0m\u001b[0mlongitudinal_force\u001b[0m \u001b[1;33m/\u001b[0m \u001b[0mfl_ratio\u001b[0m\u001b[1;33m\u001b[0m\u001b[1;33m\u001b[0m\u001b[0m\n\u001b[0m\u001b[0;32m     55\u001b[0m         \u001b[0mFyt_scaled\u001b[0m \u001b[1;33m=\u001b[0m \u001b[0mself\u001b[0m\u001b[1;33m.\u001b[0m\u001b[0mlateral_force\u001b[0m \u001b[1;33m/\u001b[0m \u001b[0mfl_ratio\u001b[0m\u001b[1;33m\u001b[0m\u001b[1;33m\u001b[0m\u001b[0m\n\u001b[0;32m     56\u001b[0m         \u001b[0mFxt_line_default\u001b[0m \u001b[1;33m=\u001b[0m \u001b[1;33m[\u001b[0m\u001b[1;33m[\u001b[0m\u001b[1;36m0\u001b[0m\u001b[1;33m,\u001b[0m\u001b[0mFxt_scaled\u001b[0m\u001b[1;33m]\u001b[0m\u001b[1;33m,\u001b[0m\u001b[1;33m[\u001b[0m\u001b[1;36m0\u001b[0m\u001b[1;33m,\u001b[0m\u001b[1;36m0\u001b[0m\u001b[1;33m]\u001b[0m\u001b[1;33m]\u001b[0m\u001b[1;33m\u001b[0m\u001b[1;33m\u001b[0m\u001b[0m\n",
      "\u001b[1;31mNameError\u001b[0m: name 'fl_ratio' is not defined"
     ]
    },
    {
     "data": {
      "image/png": "[encoded data removed]",
      "text/plain": [
       "<Figure size 432x288 with 1 Axes>"
      ]
     },
     "metadata": {
      "needs_background": "light"
     },
     "output_type": "display_data"
    }
   ],
   "source": [
    "y.draw_vehicle()"
   ]
  },
  {
   "cell_type": "code",
   "execution_count": null,
   "id": "20f3c8c8-1faa-44d3-8a9a-c677b73542ef",
   "metadata": {},
   "outputs": [],
   "source": [
    "y.front_tire.draw_tire_x_axis()"
   ]
  }
 ],
 "metadata": {
  "kernelspec": {
   "display_name": "Python 3 (ipykernel)",
   "language": "python",
   "name": "python3"
  },
  "language_info": {
   "codemirror_mode": {
    "name": "ipython",
    "version": 3
   },
   "file_extension": ".py",
   "mimetype": "text/x-python",
   "name": "python",
   "nbconvert_exporter": "python",
   "pygments_lexer": "ipython3",
   "version": "3.8.12"
  }
 },
 "nbformat": 4,
 "nbformat_minor": 5
}
